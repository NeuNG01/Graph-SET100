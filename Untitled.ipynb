{
 "cells": [
  {
   "cell_type": "code",
   "execution_count": null,
   "id": "26778797",
   "metadata": {},
   "outputs": [],
   "source": [
    "import pandas as pd\n",
    "import sys\n",
    "import starfishX as sx\n",
    "import matplotlib.pyplot as plt\n",
    "%matplotlib inline\n",
    "plt.rcParams.update({'figure.max_open_warning': 0})\n",
    "print(f'pandas version: {pd.__version__}')\n",
    "from datetime import datetime\n",
    "str (datetime.now())\n",
    "SET = 'https://www.settrade.com/C13_MarketSummary.jsp?order=Y'\n",
    "MAI = 'https://www.settrade.com/C13_MarketSummary.jsp?order=Y&market=mai'\n",
    "\n",
    "dfs = pd.read_html(SET,\n",
    "                   match='หลักทรัพย์',\n",
    "                   header=[0])#&market=mai\n",
    "len(dfs)\n",
    "df = dfs[1]\n",
    "symple = df['หลักทรัพย์'].unique()\n",
    "symple "
   ]
  },
  {
   "cell_type": "code",
   "execution_count": null,
   "id": "f7749908",
   "metadata": {},
   "outputs": [],
   "source": []
  },
  {
   "cell_type": "code",
   "execution_count": null,
   "id": "4fae55df",
   "metadata": {},
   "outputs": [],
   "source": []
  }
 ],
 "metadata": {
  "kernelspec": {
   "display_name": "Python 3",
   "language": "python",
   "name": "python3"
  },
  "language_info": {
   "codemirror_mode": {
    "name": "ipython",
    "version": 3
   },
   "file_extension": ".py",
   "mimetype": "text/x-python",
   "name": "python",
   "nbconvert_exporter": "python",
   "pygments_lexer": "ipython3",
   "version": "3.8.8"
  }
 },
 "nbformat": 4,
 "nbformat_minor": 5
}
